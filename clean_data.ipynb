{
 "cells": [
  {
   "cell_type": "code",
   "execution_count": 2,
   "metadata": {},
   "outputs": [],
   "source": [
    "import os\n",
    "import pandas as pd\n",
    "import matplotlib.pyplot as plt\n",
    "import re"
   ]
  },
  {
   "cell_type": "markdown",
   "metadata": {},
   "source": [
    "### Load Data and Handle Missing Values"
   ]
  },
  {
   "cell_type": "code",
   "execution_count": 3,
   "metadata": {},
   "outputs": [],
   "source": [
    "# Define file path\n",
    "file_path = 'data/fec_data.csv'\n",
    "\n",
    "# Load CSV file only if it exists\n",
    "if os.path.exists(file_path):\n",
    "    df = pd.read_csv(file_path, low_memory=False)\n",
    "else:\n",
    "    print(f\"File not found at {file_path}. Please ensure the file exists.\")"
   ]
  },
  {
   "cell_type": "code",
   "execution_count": 4,
   "metadata": {},
   "outputs": [
    {
     "data": {
      "text/html": [
       "<div>\n",
       "<style scoped>\n",
       "    .dataframe tbody tr th:only-of-type {\n",
       "        vertical-align: middle;\n",
       "    }\n",
       "\n",
       "    .dataframe tbody tr th {\n",
       "        vertical-align: top;\n",
       "    }\n",
       "\n",
       "    .dataframe thead th {\n",
       "        text-align: right;\n",
       "    }\n",
       "</style>\n",
       "<table border=\"1\" class=\"dataframe\">\n",
       "  <thead>\n",
       "    <tr style=\"text-align: right;\">\n",
       "      <th></th>\n",
       "      <th>committee_id</th>\n",
       "      <th>committee_name</th>\n",
       "      <th>report_year</th>\n",
       "      <th>report_type</th>\n",
       "      <th>image_number</th>\n",
       "      <th>line_number</th>\n",
       "      <th>transaction_id</th>\n",
       "      <th>file_number</th>\n",
       "      <th>committee_name.1</th>\n",
       "      <th>entity_type</th>\n",
       "      <th>...</th>\n",
       "      <th>filing_form</th>\n",
       "      <th>link_id</th>\n",
       "      <th>is_individual</th>\n",
       "      <th>memo_text</th>\n",
       "      <th>two_year_transaction_period</th>\n",
       "      <th>schedule_type</th>\n",
       "      <th>increased_limit</th>\n",
       "      <th>sub_id</th>\n",
       "      <th>pdf_url</th>\n",
       "      <th>line_number_label</th>\n",
       "    </tr>\n",
       "  </thead>\n",
       "  <tbody>\n",
       "    <tr>\n",
       "      <th>0</th>\n",
       "      <td>C00010603</td>\n",
       "      <td>DNC SERVICES CORPORATION/DEMOCRATIC NATIONAL C...</td>\n",
       "      <td>2004</td>\n",
       "      <td>M10</td>\n",
       "      <td>24991281132</td>\n",
       "      <td>11AI</td>\n",
       "      <td>0014047824</td>\n",
       "      <td>144516</td>\n",
       "      <td>NaN</td>\n",
       "      <td>IND</td>\n",
       "      <td>...</td>\n",
       "      <td>F3X</td>\n",
       "      <td>4102120041043824694</td>\n",
       "      <td>t</td>\n",
       "      <td>NaN</td>\n",
       "      <td>2004</td>\n",
       "      <td>SA</td>\n",
       "      <td>NaN</td>\n",
       "      <td>4110920041045359865</td>\n",
       "      <td>http://docquery.fec.gov/cgi-bin/fecimg/?249912...</td>\n",
       "      <td>Contributions From Individuals/Persons Other T...</td>\n",
       "    </tr>\n",
       "    <tr>\n",
       "      <th>1</th>\n",
       "      <td>C00370114</td>\n",
       "      <td>CHARLES SCHWAB CORPORATION POLITICAL ACTION CO...</td>\n",
       "      <td>2004</td>\n",
       "      <td>Q3</td>\n",
       "      <td>24962526309</td>\n",
       "      <td>11AI</td>\n",
       "      <td>INC:A:53</td>\n",
       "      <td>140868</td>\n",
       "      <td>NaN</td>\n",
       "      <td>IND</td>\n",
       "      <td>...</td>\n",
       "      <td>F3X</td>\n",
       "      <td>4101520041043235350</td>\n",
       "      <td>t</td>\n",
       "      <td>NaN</td>\n",
       "      <td>2004</td>\n",
       "      <td>SA</td>\n",
       "      <td>NaN</td>\n",
       "      <td>4102320041043965652</td>\n",
       "      <td>http://docquery.fec.gov/cgi-bin/fecimg/?249625...</td>\n",
       "      <td>Contributions From Individuals/Persons Other T...</td>\n",
       "    </tr>\n",
       "    <tr>\n",
       "      <th>2</th>\n",
       "      <td>C00193433</td>\n",
       "      <td>EMILY'S LIST</td>\n",
       "      <td>2004</td>\n",
       "      <td>30G</td>\n",
       "      <td>25970298783</td>\n",
       "      <td>11AI</td>\n",
       "      <td>1709173</td>\n",
       "      <td>175907</td>\n",
       "      <td>NaN</td>\n",
       "      <td>IND</td>\n",
       "      <td>...</td>\n",
       "      <td>F3X</td>\n",
       "      <td>4060820051058138260</td>\n",
       "      <td>t</td>\n",
       "      <td>NaN</td>\n",
       "      <td>2004</td>\n",
       "      <td>SA</td>\n",
       "      <td>NaN</td>\n",
       "      <td>4060820051058158756</td>\n",
       "      <td>http://docquery.fec.gov/cgi-bin/fecimg/?259702...</td>\n",
       "      <td>Contributions From Individuals/Persons Other T...</td>\n",
       "    </tr>\n",
       "    <tr>\n",
       "      <th>3</th>\n",
       "      <td>C00364356</td>\n",
       "      <td>DAKPAC</td>\n",
       "      <td>2004</td>\n",
       "      <td>M4</td>\n",
       "      <td>24991123831</td>\n",
       "      <td>11AI</td>\n",
       "      <td>C219</td>\n",
       "      <td>117777</td>\n",
       "      <td>NaN</td>\n",
       "      <td>IND</td>\n",
       "      <td>...</td>\n",
       "      <td>F3X</td>\n",
       "      <td>4042020041037499949</td>\n",
       "      <td>t</td>\n",
       "      <td>NaN</td>\n",
       "      <td>2004</td>\n",
       "      <td>SA</td>\n",
       "      <td>NaN</td>\n",
       "      <td>4042320041037726959</td>\n",
       "      <td>http://docquery.fec.gov/cgi-bin/fecimg/?249911...</td>\n",
       "      <td>Contributions From Individuals/Persons Other T...</td>\n",
       "    </tr>\n",
       "    <tr>\n",
       "      <th>4</th>\n",
       "      <td>C00010603</td>\n",
       "      <td>DNC SERVICES CORPORATION/DEMOCRATIC NATIONAL C...</td>\n",
       "      <td>2004</td>\n",
       "      <td>30G</td>\n",
       "      <td>25990868363</td>\n",
       "      <td>11AI</td>\n",
       "      <td>0014949511</td>\n",
       "      <td>174209</td>\n",
       "      <td>NaN</td>\n",
       "      <td>IND</td>\n",
       "      <td>...</td>\n",
       "      <td>F3X</td>\n",
       "      <td>4051720051057403695</td>\n",
       "      <td>t</td>\n",
       "      <td>NaN</td>\n",
       "      <td>2004</td>\n",
       "      <td>SA</td>\n",
       "      <td>NaN</td>\n",
       "      <td>4053120051057894326</td>\n",
       "      <td>http://docquery.fec.gov/cgi-bin/fecimg/?259908...</td>\n",
       "      <td>Contributions From Individuals/Persons Other T...</td>\n",
       "    </tr>\n",
       "  </tbody>\n",
       "</table>\n",
       "<p>5 rows × 79 columns</p>\n",
       "</div>"
      ],
      "text/plain": [
       "  committee_id                                     committee_name  \\\n",
       "0    C00010603  DNC SERVICES CORPORATION/DEMOCRATIC NATIONAL C...   \n",
       "1    C00370114  CHARLES SCHWAB CORPORATION POLITICAL ACTION CO...   \n",
       "2    C00193433                                       EMILY'S LIST   \n",
       "3    C00364356                                             DAKPAC   \n",
       "4    C00010603  DNC SERVICES CORPORATION/DEMOCRATIC NATIONAL C...   \n",
       "\n",
       "   report_year report_type  image_number line_number transaction_id  \\\n",
       "0         2004         M10   24991281132        11AI     0014047824   \n",
       "1         2004          Q3   24962526309        11AI       INC:A:53   \n",
       "2         2004         30G   25970298783        11AI        1709173   \n",
       "3         2004          M4   24991123831        11AI           C219   \n",
       "4         2004         30G   25990868363        11AI     0014949511   \n",
       "\n",
       "   file_number  committee_name.1 entity_type  ... filing_form  \\\n",
       "0       144516               NaN         IND  ...         F3X   \n",
       "1       140868               NaN         IND  ...         F3X   \n",
       "2       175907               NaN         IND  ...         F3X   \n",
       "3       117777               NaN         IND  ...         F3X   \n",
       "4       174209               NaN         IND  ...         F3X   \n",
       "\n",
       "               link_id is_individual memo_text two_year_transaction_period  \\\n",
       "0  4102120041043824694             t       NaN                        2004   \n",
       "1  4101520041043235350             t       NaN                        2004   \n",
       "2  4060820051058138260             t       NaN                        2004   \n",
       "3  4042020041037499949             t       NaN                        2004   \n",
       "4  4051720051057403695             t       NaN                        2004   \n",
       "\n",
       "  schedule_type increased_limit               sub_id  \\\n",
       "0            SA             NaN  4110920041045359865   \n",
       "1            SA             NaN  4102320041043965652   \n",
       "2            SA             NaN  4060820051058158756   \n",
       "3            SA             NaN  4042320041037726959   \n",
       "4            SA             NaN  4053120051057894326   \n",
       "\n",
       "                                             pdf_url  \\\n",
       "0  http://docquery.fec.gov/cgi-bin/fecimg/?249912...   \n",
       "1  http://docquery.fec.gov/cgi-bin/fecimg/?249625...   \n",
       "2  http://docquery.fec.gov/cgi-bin/fecimg/?259702...   \n",
       "3  http://docquery.fec.gov/cgi-bin/fecimg/?249911...   \n",
       "4  http://docquery.fec.gov/cgi-bin/fecimg/?259908...   \n",
       "\n",
       "                                   line_number_label  \n",
       "0  Contributions From Individuals/Persons Other T...  \n",
       "1  Contributions From Individuals/Persons Other T...  \n",
       "2  Contributions From Individuals/Persons Other T...  \n",
       "3  Contributions From Individuals/Persons Other T...  \n",
       "4  Contributions From Individuals/Persons Other T...  \n",
       "\n",
       "[5 rows x 79 columns]"
      ]
     },
     "execution_count": 4,
     "metadata": {},
     "output_type": "execute_result"
    }
   ],
   "source": [
    "# Inspect dataset\n",
    "df.head()"
   ]
  },
  {
   "cell_type": "code",
   "execution_count": 4,
   "metadata": {},
   "outputs": [
    {
     "data": {
      "text/plain": [
       "(89789, 79)"
      ]
     },
     "execution_count": 4,
     "metadata": {},
     "output_type": "execute_result"
    }
   ],
   "source": [
    "# Check shape\n",
    "df.shape"
   ]
  },
  {
   "cell_type": "code",
   "execution_count": 5,
   "metadata": {},
   "outputs": [
    {
     "data": {
      "text/plain": [
       "count    89789.000000\n",
       "mean      2018.635122\n",
       "std          3.911190\n",
       "min       2003.000000\n",
       "25%       2018.000000\n",
       "50%       2020.000000\n",
       "75%       2021.000000\n",
       "max       2024.000000\n",
       "Name: report_year, dtype: float64"
      ]
     },
     "execution_count": 5,
     "metadata": {},
     "output_type": "execute_result"
    }
   ],
   "source": [
    "# Inspect years\n",
    "df['report_year'].describe()"
   ]
  },
  {
   "cell_type": "markdown",
   "metadata": {},
   "source": [
    "Data extends from 2003-Present instead of 1979-Present (the FEC has mandated public disclosure of federal campaign contributions since its establishment in 1975 but database goes back to 1979) becuase occupation wasn't always a required field and dropping it and only filtering only by employer adds too much noise."
   ]
  },
  {
   "cell_type": "code",
   "execution_count": 6,
   "metadata": {},
   "outputs": [
    {
     "data": {
      "image/png": "[encoded data removed]",
      "text/plain": [
       "<Figure size 1200x600 with 1 Axes>"
      ]
     },
     "metadata": {},
     "output_type": "display_data"
    }
   ],
   "source": [
    "# Group data by report_year and count the number of contributions per year\n",
    "contributions_per_year = df.groupby('report_year').size()\n",
    "\n",
    "# Plot the contributions per year\n",
    "plt.figure(figsize=(12, 6))\n",
    "plt.bar(contributions_per_year.index, contributions_per_year.values, color='skyblue', width=0.8)\n",
    "plt.title('Number of Contributions Per Year', fontsize=16)\n",
    "plt.xlabel('Year', fontsize=14)\n",
    "plt.ylabel('Number of Contributions', fontsize=14)\n",
    "plt.xticks(contributions_per_year.index, rotation=45)\n",
    "plt.grid(axis='y', linestyle='--', alpha=0.7)\n",
    "plt.tight_layout()\n",
    "plt.show()"
   ]
  },
  {
   "cell_type": "code",
   "execution_count": 7,
   "metadata": {},
   "outputs": [],
   "source": [
    "# Filter df to include only desired features\n",
    "desired_features = [\n",
    "'committee_id', 'file_number', 'committee_name', 'report_year',\n",
    "        'contributor_name', 'recipient_committee_type', 'contributor_street_1',\n",
    "        'contributor_street_2', 'contributor_city', 'contributor_state',\n",
    "        'contributor_zip', 'contributor_employer', 'contributor_occupation',\n",
    "        'contribution_receipt_date', 'contribution_receipt_amount',\n",
    "]\n",
    "df = df[desired_features]"
   ]
  },
  {
   "cell_type": "code",
   "execution_count": 8,
   "metadata": {},
   "outputs": [
    {
     "data": {
      "text/plain": [
       "(89789, 15)"
      ]
     },
     "execution_count": 8,
     "metadata": {},
     "output_type": "execute_result"
    }
   ],
   "source": [
    "# Check shape\n",
    "df.shape"
   ]
  },
  {
   "cell_type": "code",
   "execution_count": 9,
   "metadata": {},
   "outputs": [
    {
     "data": {
      "text/plain": [
       "committee_id                       0\n",
       "file_number                        0\n",
       "committee_name                     0\n",
       "report_year                        0\n",
       "contributor_name                   2\n",
       "recipient_committee_type           0\n",
       "contributor_street_1              18\n",
       "contributor_street_2           86142\n",
       "contributor_city                   5\n",
       "contributor_state                  7\n",
       "contributor_zip                  251\n",
       "contributor_employer               0\n",
       "contributor_occupation             0\n",
       "contribution_receipt_date          0\n",
       "contribution_receipt_amount        0\n",
       "dtype: int64"
      ]
     },
     "execution_count": 9,
     "metadata": {},
     "output_type": "execute_result"
    }
   ],
   "source": [
    "# Count missing values\n",
    "df.isna().sum()"
   ]
  },
  {
   "cell_type": "code",
   "execution_count": 10,
   "metadata": {},
   "outputs": [
    {
     "data": {
      "text/plain": [
       "committee_id                   0\n",
       "file_number                    0\n",
       "committee_name                 0\n",
       "report_year                    0\n",
       "contributor_name               0\n",
       "recipient_committee_type       0\n",
       "contributor_street_1           0\n",
       "contributor_street_2           0\n",
       "contributor_city               0\n",
       "contributor_state              0\n",
       "contributor_zip                0\n",
       "contributor_employer           0\n",
       "contributor_occupation         0\n",
       "contribution_receipt_date      0\n",
       "contribution_receipt_amount    0\n",
       "dtype: int64"
      ]
     },
     "execution_count": 10,
     "metadata": {},
     "output_type": "execute_result"
    }
   ],
   "source": [
    "# Drop rows with missing required fields\n",
    "df = df.dropna(subset=['contributor_name', 'contributor_street_1'])\n",
    "\n",
    "# Define default values for optional fields\n",
    "fill_values = {\n",
    "    'contributor_street_2': '',\n",
    "    'contributor_state': 'UNKNOWN',\n",
    "    'contributor_city': 'UNKNOWN',\n",
    "    'contributor_zip': '00000',\n",
    "}\n",
    "\n",
    "# Apply fillna\n",
    "df = df.fillna(value=fill_values)\n",
    "\n",
    "# Verify changes\n",
    "df.isna().sum()"
   ]
  },
  {
   "cell_type": "markdown",
   "metadata": {},
   "source": [
    "#### Clean Data"
   ]
  },
  {
   "cell_type": "code",
   "execution_count": 11,
   "metadata": {},
   "outputs": [],
   "source": [
    "# Dict to map state abbreviations to proper uppercase forms\n",
    "state_abbreviations = {\n",
    "    'ca': 'CA', 'ma': 'MA', 'nc': 'NC', 'nh': 'NH', 'ny': 'NY',\n",
    "    'pa': 'PA', 'va': 'VA', 'wv': 'WV', 'wy': 'WY'\n",
    "}\n",
    "\n",
    "# Cleaning function for committee names\n",
    "def clean_committee_name(name):\n",
    "    \n",
    "    # Apply title case\n",
    "    name = name.title()\n",
    "\n",
    "    # Remove \", The\", \",DNC\", \",DNC.\", \", Inc.\", \", Inc\", \"Inc.\" and \"Inc\"\n",
    "    name = re.sub(r',?\\s*(The|DNC\\.?|Inc\\.?)$', '', name, flags=re.IGNORECASE)\n",
    "\n",
    "    # Capitalize the letter after \"Mc\"\n",
    "    name = re.sub(r'\\bMc([a-z])', lambda m: f\"Mc{m.group(1).upper()}\", name, flags=re.IGNORECASE)\n",
    "\n",
    "    # Fix capitalization for specific words\n",
    "    name = re.sub(r'\\b(Of|For|To|21St|And)\\b',\n",
    "                  lambda x: x.group(0).lower(),\n",
    "                  name,\n",
    "                  flags=re.IGNORECASE)\n",
    "\n",
    "    # Fix state abbreviations\n",
    "    name = re.sub(r'\\b(?:' + '|'.join(state_abbreviations.keys()) + r')\\b',\n",
    "              lambda m: state_abbreviations[m.group(0).lower()],\n",
    "              name, flags=re.IGNORECASE)\n",
    "\n",
    "    # Ensure acronyms are uppercase\n",
    "    acronyms = [\n",
    "        'AB', 'CHC', 'DAGA', 'DASS', 'DCCC', 'DGA', 'DNC', 'DSCC', 'DSI', 'FEC',\n",
    "        'HMP', 'JD', 'JDCA', 'JFC', 'LCV', 'LPAC', 'MAD', 'MJ', 'NDTC', 'NRCC',\n",
    "        'NRSC', 'PAC', 'RD', 'SCC', 'SD', 'SMP', 'US', 'VPP'\n",
    "    ]\n",
    "    for acronym in acronyms:\n",
    "        name = re.sub(rf'\\b{acronym}\\b', acronym, name, flags=re.IGNORECASE)\n",
    "\n",
    "    # Remove spaces between single uppercase letters (e.g., U S -> US)\n",
    "    name = re.sub(r'\\b([A-Z])\\s+([A-Z])\\b', r'\\1\\2', name)\n",
    "\n",
    "    # Hardcode special cases\n",
    "    replacements = {\n",
    "        r'\\bActblue\\b': 'ActBlue',\n",
    "        r'\\bAmeripac: The Fund For Greater America\\b': 'AmeriPAC: The Fund for Greater America',\n",
    "        r'\\bBill Keating Committee; The\\b': 'Bill Keating Committee',\n",
    "        r'\\bBluewaveamerica\\b': 'BlueWaveAmerica',\n",
    "        r'\\bDakpac\\b': 'DakPAC',\n",
    "        r'\\bDIcc PAC\\b': 'DICC PAC',\n",
    "        r'\\bDNC Services Corporation/Democratic National Committee\\b': 'DNC Services Corp',\n",
    "        r\"\\bDNC Services Corp\\./Dem\\. Nat('L|’L) Committee\\b\": \"DNC Services Corp\",\n",
    "        r\"\\bEmily(?:['’]?)S List\\b\": \"Emily's List\",\n",
    "        r'\\bJstreetpac\\b': 'JStreetPAC',\n",
    "        r'\\bKidspac\\b': 'KidsPAC',\n",
    "        r'\\bLegitpac\\b': 'Legit PAC',\n",
    "        r'\\bLessig2016\\.Us\\b': 'Lessig2016.us',\n",
    "        r'\\bL Pac\\b': 'LPAC',\n",
    "        r'\\bMarkey Committee; The\\b': 'Markey Committee',\n",
    "        r'\\bMccorkle For Colorado\\b': 'McCorkle for Colorado',\n",
    "        r'\\bMcMullin For Utah\\b': 'McMullin for Utah',\n",
    "        r'\\bMoveon\\.Org PAC\\b': 'MoveOn.org Political Action',\n",
    "        r'\\bMoveon\\.Org Political Action\\b': 'MoveOn.org Political Action',\n",
    "        r'\\bSoS America PAC\\b': 'SOS America PAC',\n",
    "        r'\\bTulsi For Hawai’I\\b': 'Tulsi for Hawaii',\n",
    "        r'\\bVotevets\\b': 'VoteVets',\n",
    "        r'\\bWinred\\b': 'WinRed'\n",
    "    }\n",
    "    for pattern, replacement in replacements.items():\n",
    "        name = re.sub(pattern, replacement, name, flags=re.IGNORECASE)\n",
    "\n",
    "    return name\n",
    "\n",
    "# Apply cleaning function to committee_name\n",
    "df['committee_name'] = df['committee_name'].apply(clean_committee_name)"
   ]
  },
  {
   "cell_type": "code",
   "execution_count": 12,
   "metadata": {},
   "outputs": [],
   "source": [
    "# Convert remaining nonnumeric columns to proper capitlization\n",
    "columns_to_title = ['contributor_name', 'contributor_street_1', 'contributor_street_2', 'contributor_city', 'contributor_employer', 'contributor_occupation']\n",
    "\n",
    "for column in columns_to_title:\n",
    "    df[column] = df[column].apply(lambda x: x.title() if isinstance(x, str) else x)\n",
    "\n",
    "# Remove titles and middle initials\n",
    "df['contributor_name'] = df['contributor_name'].str.replace(\n",
    "    r'\\b(Mr|Ms|Mrs|Dr|Prof|Mx)\\.?\\b|\\b[A-Z]\\.?\\b', '', regex=True, case=False\n",
    ").str.replace(r'\\.', '', regex=True).str.replace(r'\\s+', ' ', regex=True).str.strip()\n",
    "\n",
    "# Fix directional abbreviations\n",
    "df['contributor_street_1'] = df['contributor_street_1'].str.replace(\n",
    "    r'\\b(?:Nw|Ne|Sw|Se|N|S|E|W)\\b',\n",
    "    lambda m: m.group(0).upper(),\n",
    "    regex=True\n",
    ")\n",
    "\n",
    "df['contributor_street_2'] = df['contributor_street_2'].str.replace(\n",
    "    r'\\b(?:Nw|Ne|Sw|Se|N|S|E|W)\\b',\n",
    "    lambda m: m.group(0).upper(),\n",
    "    regex=True\n",
    ")"
   ]
  },
  {
   "cell_type": "code",
   "execution_count": 13,
   "metadata": {},
   "outputs": [
    {
     "data": {
      "text/plain": [
       "contributor_employer\n",
       "Harvard University                     59209\n",
       "Harvard University - Cfa                8430\n",
       "Harvard                                 7508\n",
       "Harvard Law School                      3499\n",
       "Harvard Business School                 2228\n",
       "                                       ...  \n",
       "Biogen/Harvard                             1\n",
       "Bidmc-Harvard                              1\n",
       "Harvard University & Kennedy School        1\n",
       "Michigan/Harvard Law Schools               1\n",
       "Harvard Unisversity                        1\n",
       "Name: count, Length: 356, dtype: int64"
      ]
     },
     "execution_count": 13,
     "metadata": {},
     "output_type": "execute_result"
    }
   ],
   "source": [
    "# Inspect contributor_employer\n",
    "df['contributor_employer'].value_counts()"
   ]
  },
  {
   "cell_type": "code",
   "execution_count": 14,
   "metadata": {},
   "outputs": [],
   "source": [
    "# Set all values in contributor_employer to \"Harvard University,\" since there's not sufficient heterogeneity in raw export to perform any meaningful slicing by Medical School, Law School, etc.\n",
    "df['contributor_employer'] = \"Harvard University\""
   ]
  },
  {
   "cell_type": "code",
   "execution_count": null,
   "metadata": {},
   "outputs": [
    {
     "data": {
      "text/plain": [
       "0      2004-09-27 00:00:00\n",
       "1      2004-07-21 00:00:00\n",
       "2      2004-11-01 00:00:00\n",
       "3      2004-03-26 00:00:00\n",
       "4      2004-10-25 00:00:00\n",
       "              ...         \n",
       "995    2005-09-28 00:00:00\n",
       "996    2006-01-05 00:00:00\n",
       "997    2006-03-16 00:00:00\n",
       "998    2006-09-25 00:00:00\n",
       "999    2005-12-23 00:00:00\n",
       "Name: contribution_receipt_date, Length: 1000, dtype: object"
      ]
     },
     "execution_count": 14,
     "metadata": {},
     "output_type": "execute_result"
    }
   ],
   "source": [
    "# Check out data\n",
    "df['contribution_receipt_date']."
   ]
  },
  {
   "cell_type": "code",
   "execution_count": 16,
   "metadata": {},
   "outputs": [
    {
     "data": {
      "text/plain": [
       "count     89769.000000\n",
       "mean        176.588041\n",
       "std        1128.227089\n",
       "min       -8700.000000\n",
       "25%           5.000000\n",
       "50%          25.000000\n",
       "75%         100.000000\n",
       "max      100000.000000\n",
       "Name: contribution_receipt_amount, dtype: float64"
      ]
     },
     "execution_count": 16,
     "metadata": {},
     "output_type": "execute_result"
    }
   ],
   "source": [
    "# Investigate receipts\n",
    "df['contribution_receipt_amount'].describe()"
   ]
  },
  {
   "cell_type": "code",
   "execution_count": 17,
   "metadata": {},
   "outputs": [
    {
     "data": {
      "text/html": [
       "<div>\n",
       "<style scoped>\n",
       "    .dataframe tbody tr th:only-of-type {\n",
       "        vertical-align: middle;\n",
       "    }\n",
       "\n",
       "    .dataframe tbody tr th {\n",
       "        vertical-align: top;\n",
       "    }\n",
       "\n",
       "    .dataframe thead th {\n",
       "        text-align: right;\n",
       "    }\n",
       "</style>\n",
       "<table border=\"1\" class=\"dataframe\">\n",
       "  <thead>\n",
       "    <tr style=\"text-align: right;\">\n",
       "      <th></th>\n",
       "      <th>report_year</th>\n",
       "      <th>net_contributions</th>\n",
       "    </tr>\n",
       "  </thead>\n",
       "  <tbody>\n",
       "    <tr>\n",
       "      <th>count</th>\n",
       "      <td>7338.000000</td>\n",
       "      <td>7338.000000</td>\n",
       "    </tr>\n",
       "    <tr>\n",
       "      <th>mean</th>\n",
       "      <td>2015.593077</td>\n",
       "      <td>2160.279620</td>\n",
       "    </tr>\n",
       "    <tr>\n",
       "      <th>std</th>\n",
       "      <td>5.842848</td>\n",
       "      <td>7335.609262</td>\n",
       "    </tr>\n",
       "    <tr>\n",
       "      <th>min</th>\n",
       "      <td>2003.000000</td>\n",
       "      <td>-2300.000000</td>\n",
       "    </tr>\n",
       "    <tr>\n",
       "      <th>25%</th>\n",
       "      <td>2011.000000</td>\n",
       "      <td>175.000000</td>\n",
       "    </tr>\n",
       "    <tr>\n",
       "      <th>50%</th>\n",
       "      <td>2017.000000</td>\n",
       "      <td>500.000000</td>\n",
       "    </tr>\n",
       "    <tr>\n",
       "      <th>75%</th>\n",
       "      <td>2020.000000</td>\n",
       "      <td>1586.250000</td>\n",
       "    </tr>\n",
       "    <tr>\n",
       "      <th>max</th>\n",
       "      <td>2024.000000</td>\n",
       "      <td>195000.000000</td>\n",
       "    </tr>\n",
       "  </tbody>\n",
       "</table>\n",
       "</div>"
      ],
      "text/plain": [
       "       report_year  net_contributions\n",
       "count  7338.000000        7338.000000\n",
       "mean   2015.593077        2160.279620\n",
       "std       5.842848        7335.609262\n",
       "min    2003.000000       -2300.000000\n",
       "25%    2011.000000         175.000000\n",
       "50%    2017.000000         500.000000\n",
       "75%    2020.000000        1586.250000\n",
       "max    2024.000000      195000.000000"
      ]
     },
     "execution_count": 17,
     "metadata": {},
     "output_type": "execute_result"
    }
   ],
   "source": [
    "# Ensure contribution_receipt_date is in datetime format\n",
    "df['contribution_receipt_date'] = pd.to_datetime(df['contribution_receipt_date'])\n",
    "\n",
    "# Extract year from receipt date\n",
    "df['report_year'] = df['contribution_receipt_date'].dt.year\n",
    "\n",
    "# Group by contributor name and year, and calculate net contributions\n",
    "net_contributions = df.groupby(['contributor_name', 'report_year'], as_index=False)['contribution_receipt_amount'].sum()\n",
    "\n",
    "# Rename column for clarity\n",
    "net_contributions.rename(columns={'contribution_receipt_amount': 'net_contributions'}, inplace=True)\n",
    "\n",
    "# Display summary df\n",
    "net_contributions.describe()"
   ]
  },
  {
   "cell_type": "code",
   "execution_count": 18,
   "metadata": {},
   "outputs": [
    {
     "name": "stdout",
     "output_type": "stream",
     "text": [
      "      contributor_name  report_year  net_contributions\n",
      "2219  Goldsmith, Steve         2008            -2300.0\n",
      "4740   Mnookin, Robert         2004            -2000.0\n",
      "Number of contributors with net negative donations: 2\n"
     ]
    }
   ],
   "source": [
    "# Filter for entries where net donations are less than 0\n",
    "negative_net_donations = net_contributions[net_contributions['net_contributions'] < 0]\n",
    "\n",
    "# Display all such instances\n",
    "print(negative_net_donations)\n",
    "\n",
    "# Count the number of such entries\n",
    "print(f\"Number of contributors with net negative donations: {len(negative_net_donations)}\")"
   ]
  },
  {
   "cell_type": "markdown",
   "metadata": {},
   "source": [
    "Upon further review, Mnookin donated $2000 to Clark for President Inc in 2003 and refunded that donation in 2004. Goldsmith donated $4600 to Rudy Giuliani Presidential Committee Inc in 2007 and refunded $2300 of it in 2008."
   ]
  },
  {
   "cell_type": "code",
   "execution_count": 19,
   "metadata": {},
   "outputs": [
    {
     "name": "stdout",
     "output_type": "stream",
     "text": [
      "Number of contributors with net negative donations: 0\n"
     ]
    }
   ],
   "source": [
    "# Adjust the specific entries for Goldsmith\n",
    "net_contributions.loc[(net_contributions['contributor_name'] == 'Goldsmith, Steve') & \n",
    "                      (net_contributions['report_year'] == 2007), 'net_contributions'] = 2300\n",
    "net_contributions.loc[(net_contributions['contributor_name'] == 'Goldsmith, Steve') & \n",
    "                      (net_contributions['report_year'] == 2008), 'net_contributions'] = 0\n",
    "\n",
    "# Adjust the specific entries for Mnookin\n",
    "net_contributions.loc[(net_contributions['contributor_name'] == 'Mnookin, Robert') & \n",
    "                      (net_contributions['report_year'] == 2003), 'net_contributions'] = 0\n",
    "net_contributions.loc[(net_contributions['contributor_name'] == 'Mnookin, Robert') & \n",
    "                      (net_contributions['report_year'] == 2004), 'net_contributions'] = 0\n",
    "\n",
    "# Verify changes\n",
    "negative_net_donations = net_contributions[net_contributions['net_contributions'] < 0]\n",
    "print(f\"Number of contributors with net negative donations: {len(negative_net_donations)}\")"
   ]
  },
  {
   "cell_type": "code",
   "execution_count": 20,
   "metadata": {},
   "outputs": [
    {
     "name": "stdout",
     "output_type": "stream",
     "text": [
      "Number of contributions by Jim Waldo: 15\n",
      "report_year\n",
      "2020    548.0\n",
      "2021     25.0\n",
      "2022    150.0\n",
      "2024    520.0\n",
      "Name: contribution_receipt_amount, dtype: float64\n"
     ]
    }
   ],
   "source": [
    "# Need to explore negative values further but let's use Professor Waldo as a test example\n",
    "jim_waldo_data = df[df['contributor_name'].str.contains('Waldo, James', case=False, na=False)]\n",
    "\n",
    "# Check number of contributions\n",
    "print(f\"Number of contributions by Jim Waldo: {len(jim_waldo_data)}\")\n",
    "\n",
    "# Summarize contributions\n",
    "jim_waldo_summary = jim_waldo_data.groupby('report_year')['contribution_receipt_amount'].sum()\n",
    "print(jim_waldo_summary)"
   ]
  },
  {
   "cell_type": "code",
   "execution_count": 21,
   "metadata": {},
   "outputs": [],
   "source": [
    "# Save cleaned df to CSV file\n",
    "df.to_csv('data/cleaned_fec_data.csv', index=False)"
   ]
  }
 ],
 "metadata": {
  "kernelspec": {
   "display_name": "cs109a",
   "language": "python",
   "name": "python3"
  },
  "language_info": {
   "codemirror_mode": {
    "name": "ipython",
    "version": 3
   },
   "file_extension": ".py",
   "mimetype": "text/x-python",
   "name": "python",
   "nbconvert_exporter": "python",
   "pygments_lexer": "ipython3",
   "version": "3.12.5"
  }
 },
 "nbformat": 4,
 "nbformat_minor": 2
}
